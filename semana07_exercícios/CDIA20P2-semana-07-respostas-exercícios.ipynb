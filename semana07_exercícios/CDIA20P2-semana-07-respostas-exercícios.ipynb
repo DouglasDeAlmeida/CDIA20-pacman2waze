{
 "cells": [
  {
   "cell_type": "markdown",
   "metadata": {},
   "source": [
    "# ESTRUTURAS DE DADOS"
   ]
  },
  {
   "cell_type": "markdown",
   "metadata": {},
   "source": [
    "## CDIA20P2 | Semana 07"
   ]
  },
  {
   "cell_type": "markdown",
   "metadata": {},
   "source": [
    "### Conhecendo o projeto"
   ]
  },
  {
   "cell_type": "code",
   "execution_count": 28,
   "metadata": {},
   "outputs": [],
   "source": [
    "from labirinto import Labirinto\n",
    "from agente import Agente\n",
    "from celula import Celula\n",
    "from percursos import Waze\n",
    "from turtle import *\n",
    "from utils import floor"
   ]
  },
  {
   "cell_type": "markdown",
   "metadata": {},
   "source": [
    "1. Mude a cor do caminho para Vermelho"
   ]
  },
  {
   "cell_type": "code",
   "execution_count": null,
   "metadata": {},
   "outputs": [],
   "source": [
    "# Em Labirinto.criar_labirinto()\n",
    "\n",
    "# 1. Troque a linha a seguir\n",
    "# self.desenhar_celula(celula, 'blue')\n",
    "\n",
    "# 2. Por esta linha\n",
    "self.desenhar_celula(celula, 'red')"
   ]
  },
  {
   "cell_type": "markdown",
   "metadata": {},
   "source": [
    "2. Mude a cor da pastilha para Verde"
   ]
  },
  {
   "cell_type": "code",
   "execution_count": null,
   "metadata": {},
   "outputs": [],
   "source": [
    "# Em Labirinto.criar_labirinto()\n",
    "\n",
    "# 1. Troque a linha a seguir\n",
    "# self.desenhar_pastilha(celula, 'white')\n",
    "\n",
    "# 2. Por esta linha\n",
    "self.desenhar_pastilha(celula, 'green')"
   ]
  },
  {
   "cell_type": "markdown",
   "metadata": {},
   "source": [
    "3. Mude a cor do agente para Verde"
   ]
  },
  {
   "cell_type": "code",
   "execution_count": null,
   "metadata": {},
   "outputs": [],
   "source": [
    "# Em pacman.py função main()\n",
    "\n",
    "# 1. Troque a linha\n",
    "# agente = Agente(0, tam_agente, \"yellow\")\n",
    "\n",
    "# 2. Por esta linha\n",
    "agente = Agente(0, tam_agente, \"green\")"
   ]
  },
  {
   "cell_type": "markdown",
   "metadata": {},
   "source": [
    "4. Mude o tamanho da pastilha para 5"
   ]
  },
  {
   "cell_type": "code",
   "execution_count": null,
   "metadata": {},
   "outputs": [],
   "source": [
    "# Em Labirinto.desenhar_pastilha()\n",
    "\n",
    "# 1. Troque a linha\n",
    "# self._turtle.dot(3, cor)\n",
    "\n",
    "# 2. Por esta linha\n",
    "self._turtle.dot(5, cor)"
   ]
  },
  {
   "cell_type": "markdown",
   "metadata": {},
   "source": [
    "5. Elimine a centralização da pastilha"
   ]
  },
  {
   "cell_type": "code",
   "execution_count": null,
   "metadata": {},
   "outputs": [],
   "source": [
    "# Em Labirinto.desenhar_pastilha()\n",
    "\n",
    "# 1. Troque a linha\n",
    "# x, y = celula.coord_turt_centralizada()\n",
    "\n",
    "# 2. Por esta linha\n",
    "x, y = celula.coord_turtle()"
   ]
  },
  {
   "cell_type": "markdown",
   "metadata": {},
   "source": [
    "6. Diminua o tamanho do agente para 10"
   ]
  },
  {
   "cell_type": "code",
   "execution_count": null,
   "metadata": {},
   "outputs": [],
   "source": [
    "# Em pacman.py função main()\n",
    "\n",
    "# 1. Troque a linha\n",
    "# tam_agente = 20\n",
    "\n",
    "# 2. Por esta linha\n",
    "tam_agente = 10"
   ]
  },
  {
   "cell_type": "markdown",
   "metadata": {},
   "source": [
    "7. Mude a cor do rastro do agente para Verde"
   ]
  },
  {
   "cell_type": "code",
   "execution_count": null,
   "metadata": {},
   "outputs": [],
   "source": [
    "# Em Agente.percorrer()\n",
    "\n",
    "# 1. Troque a linha\n",
    "# self._labirinto.desenhar_celula(self._posicao, 'red')\n",
    "\n",
    "# 2. Por esta linha\n",
    "self._labirinto.desenhar_celula(self._posicao, 'green')"
   ]
  },
  {
   "cell_type": "markdown",
   "metadata": {},
   "source": [
    "8. Altere a função de carregamento da matriz de fixa (```ler_matriz_fixa()```) para aleatória (```ler_matriz_aleatoria(dim)```)"
   ]
  },
  {
   "cell_type": "code",
   "execution_count": null,
   "metadata": {},
   "outputs": [],
   "source": [
    "# Em Labirinto.__init__()\n",
    "\n",
    "# 1. Troque a linha\n",
    "# self._matriz = self.ler_matriz_fixa()\n",
    "\n",
    "# 2. Por esta linha\n",
    "self._matriz = self.ler_matriz_aleatoria(dim)"
   ]
  },
  {
   "cell_type": "markdown",
   "metadata": {},
   "source": [
    "9. Altere a dimensão da matriz de 20x20 para 40x40"
   ]
  },
  {
   "cell_type": "code",
   "execution_count": null,
   "metadata": {},
   "outputs": [],
   "source": [
    "# Em pacman.py função main()\n",
    "\n",
    "# 1. Troque a linha\n",
    "# dimensao_da_matriz = 20\n",
    "\n",
    "# 2. Por esta linha\n",
    "dimensao_da_matriz = 40"
   ]
  },
  {
   "cell_type": "markdown",
   "metadata": {},
   "source": [
    "10. Altere o tamanho do agente e o tamanho da célula para 10."
   ]
  },
  {
   "cell_type": "code",
   "execution_count": null,
   "metadata": {},
   "outputs": [],
   "source": [
    "# Em pacman.py função main()\n",
    "\n",
    "# 1. Troque as linhas\n",
    "# tam_celula = 20\n",
    "# tam_agente = 20\n",
    "\n",
    "# 2. Respectivamente para\n",
    "tam_celula = 10\n",
    "tam_agente = 10"
   ]
  },
  {
   "cell_type": "markdown",
   "metadata": {},
   "source": [
    "11. Aumente a taxa de atualização de desenho na tela do Turtle para 1 segundo."
   ]
  },
  {
   "cell_type": "code",
   "execution_count": null,
   "metadata": {},
   "outputs": [],
   "source": [
    "# Em pacman.py função main()\n",
    "\n",
    "# 1. Troque a linha\n",
    "# intervalo_entre_frames = 0.1\n",
    "\n",
    "# 2. Para esta linha\n",
    "intervalo_entre_frames = 1"
   ]
  },
  {
   "cell_type": "markdown",
   "metadata": {},
   "source": [
    "12. Mude o formato do agente para um triângulo."
   ]
  },
  {
   "cell_type": "code",
   "execution_count": null,
   "metadata": {},
   "outputs": [],
   "source": [
    "# Em Agente.desenhar_se()\n",
    "def desenhar_se(self, posicao=None):\n",
    "    \"\"\" Leva a tartaruga até a posição (x,y) e desenha por exemplo um círculo\n",
    "        para representar o agente (i.e., pacman, fantasmas)\n",
    "    \"\"\"\n",
    "    self._turtle.clear()\n",
    "    if (not posicao):\n",
    "        posicao = self._posicao\n",
    "    \n",
    "    # 1. Troque esta linha\n",
    "    #x, y = posicao.coord_turt_centralizada()\n",
    "    \n",
    "    # 2. Por esta linha\n",
    "    # Usa este código porque o desenho deve começar na origem da célula\n",
    "    x, y = posicao.coord_turtle()\n",
    "    \n",
    "    self._turtle.up()\n",
    "    self._turtle.goto(x , y)\n",
    "    self._turtle.down()\n",
    "    # 3. Troque esta linha\n",
    "    #self._turtle.dot(self._tam_agente, self._cor)\n",
    "    \n",
    "    # 4. Por este trecho de código\n",
    "    # Desenha um triangulo no lugar de um círculo preenchido\n",
    "    tam_celula = self._labirinto._tam_celula\n",
    "    self._turtle.color(self._cor)\n",
    "    self._turtle.begin_fill()\n",
    "    for _ in range(3):\n",
    "        self._turtle.forward(tam_celula)\n",
    "        self._turtle.left(120)\n",
    "    self._turtle.end_fill()\n",
    "    self._turtle.up()"
   ]
  },
  {
   "cell_type": "markdown",
   "metadata": {},
   "source": [
    "13. Crie um objeto ```l``` da classe ```Labirinto```, com dimensão de matriz $10$ e tamanho de célula $5$."
   ]
  },
  {
   "cell_type": "code",
   "execution_count": null,
   "metadata": {},
   "outputs": [],
   "source": [
    "# Versão menos legível\n",
    "# O objeto é atribuído à variável l\n",
    "l = Labirinto(10, 5)\n",
    "\n",
    "# Versão mais legível\n",
    "dim = 10\n",
    "tam = 5\n",
    "l = Labirinto(dim, tam)"
   ]
  },
  {
   "cell_type": "markdown",
   "metadata": {},
   "source": [
    "14. Crie um objeto ```a``` da classe ```Agente```, com ```id``` igual a $5$, tamanho do agente igual a $15$, de cor vermelha. "
   ]
  },
  {
   "cell_type": "code",
   "execution_count": null,
   "metadata": {},
   "outputs": [],
   "source": [
    "# O objeto é atribuído à variável a\n",
    "a = Agente(5, 15, 'red')"
   ]
  },
  {
   "cell_type": "markdown",
   "metadata": {},
   "source": [
    "15. Crie e armazene numa lista ```lst``` $100$ agentes, com identificação sequencial, de tamanho 20, com cores aleatoriamente selecionadas entre preto, vermelho e verde."
   ]
  },
  {
   "cell_type": "code",
   "execution_count": null,
   "metadata": {},
   "outputs": [],
   "source": [
    "from random import choice # Importa para selecionar aleatoriamente\n",
    "\n",
    "lst = [] # Cria uma lista\n",
    "for i in range(100):\n",
    "    # Seleciona cor aleatoriamente\n",
    "    cor = choice(['black', 'red', 'green'])\n",
    "    # Instancia o objeto e o adiciona à lista na sequencia\n",
    "    lst.append( Agente(i, 20, cor) )"
   ]
  },
  {
   "cell_type": "markdown",
   "metadata": {},
   "source": [
    "16. Crie um objeto ```Waze``` que utilize uma referência de um labirinto qualquer. "
   ]
  },
  {
   "cell_type": "markdown",
   "metadata": {},
   "source": [
    "*Como se pode observar no construtor do ```Waze```, o objeto necessita uma referência (i.e., uma variável) de um objeto labirinto. Então, primeiro criamos um Labirinto e depois o utilizamos para criar o objeto solicitado.*"
   ]
  },
  {
   "cell_type": "code",
   "execution_count": null,
   "metadata": {},
   "outputs": [],
   "source": [
    "# 10,10: O enunciado especificou que pode ser qualquer labirinto\n",
    "lab = Labirinto(10,10) \n",
    "waze = Waze(lab)\n",
    "\n",
    "# Embora menos legível, você poderia resolver a questão assim:\n",
    "waze2 = Waze( Labirinto(10,10) )\n",
    "# O Python cria primeiro o objeto labirinto e o usa criar o objeto Waze"
   ]
  },
  {
   "cell_type": "markdown",
   "metadata": {},
   "source": [
    "17. Crie um objeto da classe ```Celula```, que represente a coordenada $(0,0)$, de uma matriz 40x40, de um labirinto com tamanho de celula $10$."
   ]
  },
  {
   "cell_type": "code",
   "execution_count": null,
   "metadata": {},
   "outputs": [],
   "source": [
    "c1 = Celula(coord_matr=(0,0), tam_cel=10, dim=40)"
   ]
  },
  {
   "cell_type": "markdown",
   "metadata": {},
   "source": [
    "18. Obtenha a coordenada Turtle correspondente da célula criada no exercício anterior."
   ]
  },
  {
   "cell_type": "code",
   "execution_count": null,
   "metadata": {},
   "outputs": [],
   "source": [
    "c1.coord_turtle()"
   ]
  },
  {
   "cell_type": "markdown",
   "metadata": {},
   "source": [
    "19. Crie um objeto da classe ```Celula```, que represente a coordenada $(0,0)$ no sistema Turtle, com tamanho de célula $10$, de uma matriz 40x40."
   ]
  },
  {
   "cell_type": "code",
   "execution_count": null,
   "metadata": {},
   "outputs": [],
   "source": [
    "c2 = Celula(coord_turt=(0,0), tam_cel=10, dim=40)"
   ]
  },
  {
   "cell_type": "markdown",
   "metadata": {},
   "source": [
    "20. Obtenha a coordenada de matriz correspondente da célula criada no exercício anterior."
   ]
  },
  {
   "cell_type": "code",
   "execution_count": null,
   "metadata": {},
   "outputs": [],
   "source": [
    "c2.coord_matriz()"
   ]
  },
  {
   "cell_type": "markdown",
   "metadata": {},
   "source": [
    "21. Em ```Celula.em_coord_turtle()```, encontra-se o código a seguir.\n",
    "\n",
    "```python\n",
    "lin, col = coord_matr\n",
    "meio = self._dim // 2\n",
    "x = (col - meio) * self._tam_celula\n",
    "y = (meio - lin) * self._tam_celula\n",
    "return x, y\n",
    "```\n",
    "\n",
    "Por que ```lin```, ```col```, ```meio```, ```x``` e ```y``` não são precedidas de ```self``` ao passo que ```_dim``` e ```_tam_celula``` são?"
   ]
  },
  {
   "cell_type": "markdown",
   "metadata": {},
   "source": [
    "*Porque ```lin```, ```col```, ```meio```, ```x``` e ```y``` são variáveis locais à função (i.e., só existem enquanto a função está sendo executada) enquanto que ```_dim``` e ```_tam_celula``` são atributos da classe.*"
   ]
  },
  {
   "cell_type": "markdown",
   "metadata": {},
   "source": [
    "22. Aleatoriamente obtenha uma célula que seja caminho de um labirinto qualquer."
   ]
  },
  {
   "cell_type": "code",
   "execution_count": null,
   "metadata": {},
   "outputs": [],
   "source": [
    "# Cria um labirinto qualquer\n",
    "lab3 = Labirinto(20,20)\n",
    "cel = lab3.cel_aleatoria()\n",
    "\n",
    "# Obs: Como cel_aleatoria() só utiliza a matriz, que é criada no \n",
    "# construtor do Labirinto(), não é necessário chamar criar_labirinto()"
   ]
  },
  {
   "cell_type": "markdown",
   "metadata": {},
   "source": [
    "23. Crie um labirinto e verifique se a posição $(0,0)$ da matriz é caminho."
   ]
  },
  {
   "cell_type": "code",
   "execution_count": 12,
   "metadata": {},
   "outputs": [
    {
     "data": {
      "text/plain": [
       "False"
      ]
     },
     "execution_count": 12,
     "metadata": {},
     "output_type": "execute_result"
    }
   ],
   "source": [
    "# Cria um labirinto\n",
    "lab4 = Labirinto(20,20)\n",
    "lab4.eh_caminho(0,0)"
   ]
  },
  {
   "cell_type": "markdown",
   "metadata": {},
   "source": [
    "24. Crie um labirinto e liste todas as posições que são caminho."
   ]
  },
  {
   "cell_type": "code",
   "execution_count": null,
   "metadata": {},
   "outputs": [],
   "source": [
    "dim = 20\n",
    "tam_cel = 20\n",
    "\n",
    "lab5 = Labirinto(dim, tam_cel)\n",
    "for i in range(dim):\n",
    "    for j in range(dim):\n",
    "        if (lab5.eh_caminho(i,j)):\n",
    "            print(i,j)"
   ]
  },
  {
   "cell_type": "markdown",
   "metadata": {},
   "source": [
    "25. O que acontece quando comentamos a linha a seguir em ```Agente.desenhar_se()```. Explique o observado."
   ]
  },
  {
   "cell_type": "code",
   "execution_count": null,
   "metadata": {},
   "outputs": [],
   "source": [
    "# Em Agente.desenhar_se()```\n",
    "\n",
    "# 1. Troque esta linha \n",
    "self._turtle.clear()\n",
    "\n",
    "# 2. Por esta\n",
    "# self._turtle.clear()"
   ]
  },
  {
   "cell_type": "markdown",
   "metadata": {},
   "source": [
    "*O movimento do agente no labirinto é feito primeiro apagando-se a posição do agente na posição em que se encontra seguido do desenho do agente na nova posição. Quando comentamos a linha que o apaga, observamos seu rastro.*"
   ]
  },
  {
   "cell_type": "markdown",
   "metadata": {},
   "source": [
    "26. Por que o ```Agente``` usa uma tartaruga diferente do ```Labirinto```?"
   ]
  },
  {
   "cell_type": "markdown",
   "metadata": {},
   "source": [
    "*Porque precisamos movimentar o agente. Como explicado, a movimentação necessita constantemente apagar o agente da tela e redesenhá-lo em outra posição. Caso utilizassem a mesma tartaruga, tudo seria apagado da tela quando o agente mudasse de posição.*"
   ]
  },
  {
   "cell_type": "markdown",
   "metadata": {},
   "source": [
    "27. Crie um agente e relacione-o a um labirinto qualquer."
   ]
  },
  {
   "cell_type": "code",
   "execution_count": null,
   "metadata": {},
   "outputs": [],
   "source": [
    "dim = 10\n",
    "tam_cel = 10\n",
    "labirinto = Labirinto(dim, tam_cel)\n",
    "\n",
    "tam_agente = 10\n",
    "ag = Agente(0, tam_agente, \"yellow\")\n",
    "ag.add_labirinto(labirinto)"
   ]
  },
  {
   "cell_type": "markdown",
   "metadata": {},
   "source": [
    "28. Crie $10$ agentes e relacione-os a um labirinto qualquer."
   ]
  },
  {
   "cell_type": "code",
   "execution_count": null,
   "metadata": {},
   "outputs": [],
   "source": [
    "dim = 10\n",
    "tam_cel = 10\n",
    "labirinto = Labirinto(dim, tam_cel)\n",
    "\n",
    "tam_agente = 10\n",
    "n_agentes = 10\n",
    "lst = [] # Para guardar os agentes\n",
    "for i in range(n_agentes):\n",
    "    # A cada execução um novo objeto é atribuído a ag\n",
    "    ag = Agente(i, tam_agente, \"yellow\")\n",
    "    ag.add_labirinto(labirinto)\n",
    "    \n",
    "    # Do contrário, perde-se as referências aos agentes. Explique.\n",
    "    lst.append(ag) "
   ]
  },
  {
   "cell_type": "markdown",
   "metadata": {},
   "source": [
    "29. O que faz o método ```Agente.add_labirinto()```?"
   ]
  },
  {
   "cell_type": "markdown",
   "metadata": {},
   "source": [
    "*O método ```Agente.add_labirinto()``` guarda uma referência de um objeto da classe ```Labirinto``` como um de seus atributos (```_labirinto```) além de utilizar esta referência para obter uma célula que seja caminho no labirinto e atribuir como a posição inicial do agente (```_posicao```)*"
   ]
  },
  {
   "cell_type": "markdown",
   "metadata": {},
   "source": [
    "**Para as próximas questões considere o trecho de código**"
   ]
  },
  {
   "cell_type": "code",
   "execution_count": null,
   "metadata": {},
   "outputs": [],
   "source": [
    "# Listagem base\n",
    "\n",
    "dimensao_da_matriz = 20\n",
    "tam_celula = 20\n",
    "\n",
    "# Cria o labirinto\n",
    "lab = Labirinto(dimensao_da_matriz, tam_celula)\n",
    "lab.criar_labirinto()\n",
    "\n",
    "# Cria o agente\n",
    "tam_agente = 20\n",
    "agente = Agente(0, tam_agente, \"yellow\")\n",
    "agente.add_labirinto(lab)\n",
    "\n",
    "# CÓDIGO DAS PRÓXIMAS QUESTÕES"
   ]
  },
  {
   "cell_type": "markdown",
   "metadata": {},
   "source": [
    "30. Explique o que acontece quando continuamos o trecho de código anterior  com a linha a seguir.\n",
    "\n",
    "```python\n",
    "agente.add_percurso()\n",
    "```"
   ]
  },
  {
   "cell_type": "markdown",
   "metadata": {},
   "source": [
    "*O trecho de código a seguir lista a implementação do método.*\n",
    "\n",
    "```python\n",
    "# Na classe Agente.add_percurso()\n",
    "if (not self._waze):\n",
    "    self._waze = Waze(self._labirinto)\n",
    "```\n",
    "\n",
    "*Como podemos ver, o método verifica se o objeto guarda alguma referência de um objeto em ```_waze```. Caso este local (```_waze```) seja nulo, atribui-se um objeto da classe ``` Waze```*."
   ]
  },
  {
   "cell_type": "code",
   "execution_count": null,
   "metadata": {},
   "outputs": [],
   "source": [
    "print(agente._waze) # imprime nulo\n",
    "agente.add_percurso() # Adiciona o objeto\n",
    "\n",
    "print(agente._waze) # imprime a identificação do objeto\n",
    "\n",
    "# Chamadas subsequentes mantém o mesmo objeto\n",
    "\n",
    "agente.add_percurso() # Não adiciona um novo objeto\n",
    "print(agente._waze) # imprime a identificação do MESMO objeto\n",
    "\n",
    "agente.add_percurso() # Não adiciona um novo objeto\n",
    "print(agente._waze) # imprime a identificação do MESMO objeto\n",
    "\n",
    "done()"
   ]
  },
  {
   "cell_type": "markdown",
   "metadata": {},
   "source": [
    "31. A partir da listagem-base, crie um objeto ```Waze``` e verifique se é fim de percurso."
   ]
  },
  {
   "cell_type": "code",
   "execution_count": null,
   "metadata": {},
   "outputs": [],
   "source": [
    "# Na resolução deste exercício, você pode usar as duas formas a seguir.\n",
    "\n",
    "# Forma 1\n",
    "agente.add_percurso()\n",
    "print(agente._waze.fim_percurso())\n",
    "\n",
    "# Forma 2\n",
    "agente._waze = Waze(lab)\n",
    "print(agente._waze.fim_percurso())"
   ]
  },
  {
   "cell_type": "markdown",
   "metadata": {},
   "source": [
    "32. Explique porque os resultados da questão anterior são ```False```?"
   ]
  },
  {
   "cell_type": "markdown",
   "metadata": {},
   "source": [
    "*Quando criamos um objeto ```Waze```, o atributo ```finalizado``` inicia com ```None```. Assim, quando perguntamos se é fim de percurso (```fim_percurso()```) é feita a seguinte comparação ```None == True```, que retorna como ```False```.*"
   ]
  }
 ],
 "metadata": {
  "kernelspec": {
   "display_name": "Python 3",
   "language": "python",
   "name": "python3"
  },
  "language_info": {
   "codemirror_mode": {
    "name": "ipython",
    "version": 3
   },
   "file_extension": ".py",
   "mimetype": "text/x-python",
   "name": "python",
   "nbconvert_exporter": "python",
   "pygments_lexer": "ipython3",
   "version": "3.8.3"
  }
 },
 "nbformat": 4,
 "nbformat_minor": 4
}
