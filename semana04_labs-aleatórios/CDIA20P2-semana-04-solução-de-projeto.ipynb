{
 "cells": [
  {
   "cell_type": "markdown",
   "metadata": {},
   "source": [
    "# ESTRUTURAS DE DADOS"
   ]
  },
  {
   "cell_type": "markdown",
   "metadata": {},
   "source": [
    "## CDIAP2 | Semana 04 | A criação de labirintos aleatórios"
   ]
  },
  {
   "cell_type": "markdown",
   "metadata": {},
   "source": [
    "## Solução de Etapa de Projeto"
   ]
  },
  {
   "cell_type": "markdown",
   "metadata": {},
   "source": [
    "Esta etapa de projeto consiste em criar labirintos aleatórios, inserir um agente, as pastilhas bem como criar funções que serão úteis em um momento posterior do projeto."
   ]
  },
  {
   "cell_type": "markdown",
   "metadata": {},
   "source": [
    "### A criação de labirintos aleatórios"
   ]
  },
  {
   "cell_type": "markdown",
   "metadata": {},
   "source": [
    "Após a declaração das funções, declara-se algumas variáveis que podem ser lidas por quaisquer funções do arquivo ```pacman.py```. "
   ]
  },
  {
   "cell_type": "code",
   "execution_count": 40,
   "metadata": {},
   "outputs": [],
   "source": [
    "#matriz = ler_matriz_fixa()\n",
    "matriz = ler_matriz_aleatoria(20)\n",
    "dim = len(matriz)\n",
    "tam_celula = dim\n",
    "tam_agente = dim"
   ]
  },
  {
   "cell_type": "markdown",
   "metadata": {},
   "source": [
    "Pode-se notar que para a definição da matriz, é necessário executar a função ```ler_matriz_aleatoria(dim)```. A função é listada a seguir."
   ]
  },
  {
   "cell_type": "code",
   "execution_count": null,
   "metadata": {},
   "outputs": [],
   "source": [
    "def ler_matriz_aleatoria(dim):\n",
    "    \"\"\" Retorna uma matriz quadrada na dimensão especificada com números\n",
    "        aleatórios (0's e 1's)\n",
    "        Dica: utilize numpy.random.randint()\n",
    "    \"\"\"\n",
    "    pass"
   ]
  },
  {
   "cell_type": "markdown",
   "metadata": {},
   "source": [
    "A implementação dessa função pode ser feita com o uso da biblioteca ```numpy``` conforme a dica. O trecho de código a seguir ilustra alguns usos da função ```randint()```."
   ]
  },
  {
   "cell_type": "code",
   "execution_count": 5,
   "metadata": {},
   "outputs": [
    {
     "name": "stdout",
     "output_type": "stream",
     "text": [
      "1\n",
      "1 1\n"
     ]
    },
    {
     "data": {
      "text/plain": [
       "array([[0, 0],\n",
       "       [0, 0]])"
      ]
     },
     "execution_count": 5,
     "metadata": {},
     "output_type": "execute_result"
    }
   ],
   "source": [
    "import numpy as np\n",
    "\n",
    "a = np.random.randint(2) # números aleatórios no intervalo [0,2[\n",
    "print(a)\n",
    "\n",
    "b, c = np.random.randint(2, size=(2)) # gera uma tupla aleatória no intervalo [0,2[\n",
    "print(b, c)\n",
    "\n",
    "np.random.randint(2, size=(2,2)) # gera uma matriz aleatória (2x2) (array) no intervalo [0,2["
   ]
  },
  {
   "cell_type": "markdown",
   "metadata": {},
   "source": [
    "Assim, uma matriz aleatória pode ser gerada utilizando a última forma do comando com a dimensão especificada como parâmetro."
   ]
  },
  {
   "cell_type": "code",
   "execution_count": 39,
   "metadata": {},
   "outputs": [],
   "source": [
    "def ler_matriz_aleatoria(dim):\n",
    "    \"\"\" Retorna uma matriz quadrada na dimensão especificada com números\n",
    "        aleatórios (0's e 1's)\n",
    "        Dica: utilize numpy.random.randint()\n",
    "    \"\"\"\n",
    "    return np.random.randint(2,size=(dim,dim))"
   ]
  },
  {
   "cell_type": "code",
   "execution_count": 31,
   "metadata": {},
   "outputs": [
    {
     "data": {
      "text/plain": [
       "array([[1, 1, 0, 0, 0, 0, 1, 0, 1, 0, 0, 1, 1, 0, 0, 0, 0, 0, 0, 1],\n",
       "       [0, 0, 0, 1, 0, 1, 0, 0, 0, 0, 0, 1, 1, 1, 0, 1, 1, 0, 0, 0],\n",
       "       [0, 1, 0, 0, 1, 1, 0, 1, 0, 1, 1, 1, 1, 0, 1, 1, 1, 1, 0, 1],\n",
       "       [0, 0, 0, 1, 0, 0, 0, 0, 0, 0, 1, 0, 0, 1, 1, 0, 0, 0, 1, 0],\n",
       "       [1, 0, 1, 0, 1, 0, 0, 0, 0, 0, 0, 0, 1, 1, 0, 0, 1, 1, 1, 1],\n",
       "       [0, 1, 1, 0, 0, 1, 0, 0, 0, 0, 1, 0, 1, 0, 1, 1, 0, 1, 0, 1],\n",
       "       [0, 0, 0, 1, 0, 1, 0, 1, 0, 1, 0, 1, 0, 0, 1, 0, 0, 1, 0, 1],\n",
       "       [1, 1, 0, 1, 0, 1, 0, 1, 1, 0, 1, 0, 1, 0, 0, 0, 1, 1, 1, 0],\n",
       "       [0, 0, 1, 0, 0, 1, 0, 1, 0, 0, 1, 1, 1, 1, 0, 0, 0, 0, 0, 1],\n",
       "       [0, 0, 1, 1, 0, 0, 0, 1, 0, 0, 1, 1, 1, 1, 1, 1, 1, 0, 1, 0],\n",
       "       [0, 0, 1, 1, 0, 0, 0, 1, 0, 1, 0, 1, 1, 0, 1, 0, 0, 1, 1, 1],\n",
       "       [1, 1, 1, 0, 0, 1, 1, 1, 0, 0, 1, 1, 1, 1, 1, 0, 0, 1, 1, 1],\n",
       "       [0, 1, 0, 0, 0, 0, 1, 0, 1, 1, 1, 0, 1, 0, 1, 1, 0, 1, 0, 0],\n",
       "       [0, 0, 0, 1, 0, 1, 0, 0, 0, 0, 0, 0, 1, 0, 0, 1, 1, 1, 0, 0],\n",
       "       [0, 0, 1, 0, 1, 0, 0, 1, 0, 1, 0, 1, 1, 1, 1, 1, 0, 1, 0, 1],\n",
       "       [1, 1, 0, 0, 0, 0, 0, 0, 1, 0, 0, 1, 1, 1, 0, 1, 1, 0, 1, 0],\n",
       "       [1, 1, 0, 1, 1, 1, 1, 1, 1, 0, 1, 0, 1, 1, 0, 0, 0, 1, 1, 1],\n",
       "       [0, 1, 0, 0, 0, 0, 1, 0, 0, 0, 1, 0, 0, 0, 0, 1, 1, 1, 1, 0],\n",
       "       [1, 0, 1, 0, 1, 0, 0, 0, 0, 1, 1, 0, 1, 1, 1, 1, 1, 0, 1, 1],\n",
       "       [1, 1, 1, 0, 1, 1, 0, 1, 0, 1, 1, 1, 0, 1, 0, 0, 1, 1, 1, 1]])"
      ]
     },
     "execution_count": 31,
     "metadata": {},
     "output_type": "execute_result"
    }
   ],
   "source": [
    "np.random.randint(2,size=(20,20))"
   ]
  },
  {
   "cell_type": "markdown",
   "metadata": {},
   "source": [
    "A seguir, o programa executa a função ```main()```, que está implementada como segue."
   ]
  },
  {
   "cell_type": "code",
   "execution_count": 6,
   "metadata": {},
   "outputs": [],
   "source": [
    "def main():\n",
    "    \n",
    "    criar_labirinto()\n",
    "    adicionar_agente()\n",
    "    done()\n",
    "\n",
    "    # Utilize esse comando para testar se as trasnformações das coordenadas\n",
    "    # estão funcionando. Ao final da execução, o resultado deve ser que todas as transformações funcionaram\n",
    "    print(testar_transf_de_coord())"
   ]
  },
  {
   "cell_type": "markdown",
   "metadata": {},
   "source": [
    "A primeira tarefa da função ```main()``` é chamar a função ```criar_labirinto()```, que está definida como a seguir.\n",
    "\n",
    "Analisando-se essa função, podemos perceber que ela mudou pouco com relação à última função do projeto. A diferença é que função ```desenhar_pastilha(x, y, cor)``` faz parte da criação do labirinto."
   ]
  },
  {
   "cell_type": "code",
   "execution_count": null,
   "metadata": {},
   "outputs": [],
   "source": [
    "def criar_labirinto(p1=420, p2=420, p3=370, p4=0):\n",
    "    \"\"\" Cria o gráfico do labirinto baseado nos valores da matriz \"\"\"\n",
    "    tracer(False)\n",
    "    hideturtle()\n",
    "    bgcolor('black')\n",
    "    setup(p1, p2, p3, p4)\n",
    "\n",
    "    # Para cada linha da matriz\n",
    "    for lin in range(dim):\n",
    "        # Para cada coluna da matriz\n",
    "        for col in range(dim):\n",
    "            # Testa se a coordenada da matriz (lin, col) é caminho (=1)\n",
    "            if (matriz[lin][col] == 1):\n",
    "                # Em caso positivo, transforma em coordenada Turtle.\n",
    "                # Atenção: Numa coordenada Turtle (x,y), o eixo x refere-se à coluna e o eixo y à linha\n",
    "                # Numa coordenada da matriz (lin, col), o primeiro elemento é a linha e o segundo a coluna\n",
    "                x, y = em_coord_turtle(lin, col)\n",
    "                # Pinta a celula na posição (x,y) com a cor especificada\n",
    "                desenhar_celula(x, y, 'blue')\n",
    "\n",
    "                desenhar_pastilha(x, y, 'white')\n",
    "\n",
    "    # Mostra as transformações na tela.\n",
    "    # Necessário porque o Tracer() está desligado\n",
    "    update()"
   ]
  },
  {
   "cell_type": "markdown",
   "metadata": {},
   "source": [
    "A função ```desenhar_pastilha(x, y, cor)``` é mostrada a seguir. A lógica é idêntica ao desenho de uma célula, exceto que, neste exemplo, usaremos um ponto para representar as pastilhas. Um ponto importante é que uma coordenada $(x, y)$ leva ao ponto de criação da célula, conforme ilustrado na etapa de projeto anterior. Uma maneira de centralizar o ponto na célula consiste em adicionar metade do tamanho de uma célula em cada eixo. "
   ]
  },
  {
   "cell_type": "code",
   "execution_count": null,
   "metadata": {},
   "outputs": [],
   "source": [
    "def desenhar_pastilha(x, y, cor):\n",
    "    \"\"\" Leva a tartaruga até a posição (x,y) e desenha por exemplo um círculo\n",
    "        para representar a pastilha\n",
    "    \"\"\"\n",
    "    c = tam_celula // 2\n",
    "    up()\n",
    "    goto(x + c, y + c)\n",
    "    down()\n",
    "    dot(3, cor)"
   ]
  },
  {
   "cell_type": "markdown",
   "metadata": {},
   "source": [
    "Essas implementações são suficientes para que o programa gere labirintos aleatórios como a figura a seguir."
   ]
  },
  {
   "cell_type": "markdown",
   "metadata": {},
   "source": [
    "<img src=\"img/labirinto-aleatório.png\" width=50%/>"
   ]
  },
  {
   "cell_type": "markdown",
   "metadata": {},
   "source": [
    "### Adicionando o agente ao labirinto"
   ]
  },
  {
   "cell_type": "markdown",
   "metadata": {},
   "source": [
    "A próxima função a ser executada na ```main()``` é a função ```adicionar_agente()```, que é implementada como a seguir. "
   ]
  },
  {
   "cell_type": "code",
   "execution_count": null,
   "metadata": {},
   "outputs": [],
   "source": [
    "def adicionar_agente():\n",
    "    \"\"\" Desenha o agente no labirinto \"\"\"\n",
    "    lin, col = cel_aleatoria()\n",
    "    x, y = em_coord_turtle(lin, col)\n",
    "    desenhar_agente(x, y, 'yellow')"
   ]
  },
  {
   "cell_type": "markdown",
   "metadata": {},
   "source": [
    "A execução dessa função requer a execução de duas funções que não estão implementadas: ```cel_aleatoria()``` e ```desenhar_agente(x, y, cor)```. Começaremos com a primeira."
   ]
  },
  {
   "cell_type": "code",
   "execution_count": null,
   "metadata": {},
   "outputs": [],
   "source": [
    "def cel_aleatoria():\n",
    "    \"\"\" Retorna os índices de uma posição que contenha 1\n",
    "        Por exemplo, na matriz a seguir:\n",
    "        [[ 1  0  0 ]\n",
    "         [ 0  1  0 ]\n",
    "         [ 0  0  1 ]]\n",
    "        Somente os elementos da diagonal principal [(0,0), (1,1), (2,2)]\n",
    "        poderiam ser retornados\n",
    "        Dica: utilize numpy.random.randint()\n",
    "    \"\"\"\n",
    "    pass"
   ]
  },
  {
   "cell_type": "markdown",
   "metadata": {},
   "source": [
    "O objetivo dessa função é gerar uma coordenada de matriz que seja caminho (i.e., igual a 1 na matriz) para que não aconteça do agente ser inserido em um bloqueio. Uma ideia é sortear linhas e colunas e testar se o sorteio resultou em uma coordenada que seja caminho. Caso contrário, repete-se todo o processo. O sorteio pode ser realizado com a função ```randint()```, e o teste se é caminho com a função ```eh_caminho(lin, col)```. Para o teste, basta acessar a posição da matriz e verificar se a coordenada é 1."
   ]
  },
  {
   "cell_type": "code",
   "execution_count": null,
   "metadata": {},
   "outputs": [],
   "source": [
    "def eh_caminho(lin, col):\n",
    "    \"\"\" Dada uma matriz quadrada, retorna True quando (lin, col) == 1 e\n",
    "        False caso contrário.\n",
    "        Por exemplo, na matriz a seguir:\n",
    "        [[ 1  0  0 ]\n",
    "         [ 0  1  0 ]\n",
    "         [ 0  0  1 ]]\n",
    "        a chamada de função 'eh_caminho(0,0)' retorna True e\n",
    "        a chamada de função 'eh_caminho(0,1)' retorna False\n",
    "    \"\"\"\n",
    "    return matriz[lin][col] == 1"
   ]
  },
  {
   "cell_type": "markdown",
   "metadata": {},
   "source": [
    "Agora podemos completar a implementação da função ```cel_aleatoria()```."
   ]
  },
  {
   "cell_type": "code",
   "execution_count": null,
   "metadata": {},
   "outputs": [],
   "source": [
    "def cel_aleatoria():\n",
    "    \"\"\" Retorna os índices de uma posição que contenha 1\n",
    "        Por exemplo, na matriz a seguir:\n",
    "        [[ 1  0  0 ]\n",
    "         [ 0  1  0 ]\n",
    "         [ 0  0  1 ]]\n",
    "        Somente os elementos da diagonal principal [(0,0), (1,1), (2,2)]\n",
    "        poderiam ser retornados\n",
    "        Dica: utilize numpy.random.randint()\n",
    "    \"\"\"\n",
    "    i, j = np.random.randint(dim, size=(2))\n",
    "    while (not eh_caminho(i, j)):\n",
    "        i, j = np.random.randint(dim, size=(2))\n",
    "    return i, j"
   ]
  },
  {
   "cell_type": "markdown",
   "metadata": {},
   "source": [
    "Finalmente, temos que desenhar o agente no labirinto. O código da função ```desenhar_agente(x, y, cor)``` é mostrado a seguir. Exceto pelo tamanho do ponto, o código é idêntico ao ```desenhar_pastilha(x, y, cor)```."
   ]
  },
  {
   "cell_type": "code",
   "execution_count": null,
   "metadata": {},
   "outputs": [],
   "source": [
    "def desenhar_agente(x, y, cor):\n",
    "    \"\"\" Leva a tartaruga até a posição (x,y) e desenha por exemplo um círculo\n",
    "        para representar o agente (i.e., pacman, fantasmas)\n",
    "    \"\"\"\n",
    "    c = tam_celula // 2\n",
    "    up()\n",
    "    goto(x + c,y + c)\n",
    "    down()\n",
    "    dot(tam_agente, cor)"
   ]
  },
  {
   "cell_type": "markdown",
   "metadata": {},
   "source": [
    "A figura a seguir mostra a execução da função ```main()``` com o ```adicionar_agente()```. Note que o agente (bola amarela) está centralizado com relação às pastilhas horizontais e verticais."
   ]
  },
  {
   "cell_type": "markdown",
   "metadata": {},
   "source": [
    "<img src=\"img/labirinto-com-agente.png\" width=50%/>"
   ]
  },
  {
   "cell_type": "markdown",
   "metadata": {},
   "source": [
    "### Criando ferramentas pro futuro"
   ]
  },
  {
   "cell_type": "markdown",
   "metadata": {},
   "source": [
    "Uma ferramenta que será importante no futuro é transformar uma coordenada Turtle em uma coordenada de matriz, o inverso do que fizemos até agora."
   ]
  },
  {
   "cell_type": "code",
   "execution_count": null,
   "metadata": {},
   "outputs": [],
   "source": [
    "def em_coord_matriz(x, y):\n",
    "    \"\"\" Dada uma coordenada do Turtle (x,y), retorna os índices correspondentes da matriz\n",
    "        Por exemplo, numa matriz quadrada de dimensão 20, com tamanho de célula 20,\n",
    "        a chamada de função 'em_coord_matriz(-200, 200)' deve retornar (0,0) e a\n",
    "        chamada de função 'em_coord_matriz(0, 0)' deve retornar (10,10).\n",
    "        Dica: utilize a função 'chao_da_celula(x, y)'\n",
    "    \"\"\"\n",
    "    pass"
   ]
  },
  {
   "cell_type": "markdown",
   "metadata": {},
   "source": [
    "É importante entender que uma célula Turtle representam um intervalo de coordenadas, que dentro de determinadas condições devem ser mapeados para a mesma linha e coluna da matriz. Por exemplo, as coordenadas Turtle $(0,0)$, $(5,5)$, $(10,10)$ e $(19,19)$, devem todas ser mapeadas para a mesma linha e coluna da matriz, uma vez que representam a mesma célula.\n",
    "\n",
    "Esse é o papel da função ```chao_da_celula(x, y)```."
   ]
  },
  {
   "cell_type": "code",
   "execution_count": 35,
   "metadata": {},
   "outputs": [],
   "source": [
    "from utils import floor\n",
    "tam_celula = 20\n",
    "\n",
    "def chao_da_celula(x, y):\n",
    "    \"\"\" Dadas coordenadas do Turtle (x,y), retorna as coordenadas do início de uma célula.\n",
    "        Por exemplo, na celula da origem com tamanho 20, a coordenada Turtle (10,10)\n",
    "        representa o meio da célula. A chamada de função 'chao_da_celula(10, 10)' retorna\n",
    "        as coordenadas de início dessa célula (0,0)\n",
    "        Dica: para entender, veja o exemplo da função: 'uso_do_floor()''\n",
    "    \"\"\"\n",
    "    chao_x = int(floor(x, tam_celula))\n",
    "    chao_y = int(floor(y, tam_celula))\n",
    "    return chao_x, chao_y"
   ]
  },
  {
   "cell_type": "code",
   "execution_count": 17,
   "metadata": {},
   "outputs": [
    {
     "name": "stdout",
     "output_type": "stream",
     "text": [
      "(0, 0)\n",
      "(0, 0)\n",
      "(0, 0)\n",
      "(0, 0)\n"
     ]
    }
   ],
   "source": [
    "print( chao_da_celula(0,0) )\n",
    "print( chao_da_celula(5,5) )\n",
    "print( chao_da_celula(10,10) )\n",
    "print( chao_da_celula(19,19) )"
   ]
  },
  {
   "cell_type": "markdown",
   "metadata": {},
   "source": [
    "A função ```uso_do_floor()``` oferece um exemplo exaustivo em todo o intervalo de nossa matriz. Sempre será mapeada uma função "
   ]
  },
  {
   "cell_type": "code",
   "execution_count": null,
   "metadata": {},
   "outputs": [],
   "source": [
    "def uso_do_floor():\n",
    "    \"\"\" Função de exemplo do uso do floor (chao_da_celula) \"\"\"\n",
    "    for i in range(-200,200):\n",
    "        print(\"{}\\t{}\".format(i, int(floor(i, 20)) ))\n",
    "uso_do_floor()"
   ]
  },
  {
   "cell_type": "markdown",
   "metadata": {},
   "source": [
    "Assim, a primeira coisa que devemos fazer quando queremos transformar uma coordenada Turtle em índice de matriz é obter o chão da célula. Em seguida, derivamos uma fórmula que retorna as linhas e colunas da coordenada."
   ]
  },
  {
   "cell_type": "code",
   "execution_count": 41,
   "metadata": {},
   "outputs": [],
   "source": [
    "def em_coord_matriz(x, y):\n",
    "    \"\"\" Dada uma coordenada do Turtle (x,y), retorna os índices correspondentes da matriz\n",
    "        Por exemplo, numa matriz quadrada de dimensão 20, com tamanho de célula 20,\n",
    "        a chamada de função 'em_coord_matriz(-200, 200)' deve retornar (0,0) e a\n",
    "        chamada de função 'em_coord_matriz(0, 0)' deve retornar (10,10).\n",
    "        Dica: utilize a função 'chao_da_celula(x, y)'\n",
    "    \"\"\"\n",
    "    x, y = chao_da_celula(x, y)\n",
    "    meio = dim // 2\n",
    "    lin = int(meio - (y / tam_celula))\n",
    "    col = int(meio + (x / tam_celula))\n",
    "    return lin, col"
   ]
  },
  {
   "cell_type": "markdown",
   "metadata": {},
   "source": [
    "Alguns testes básicos."
   ]
  },
  {
   "cell_type": "code",
   "execution_count": 42,
   "metadata": {},
   "outputs": [
    {
     "name": "stdout",
     "output_type": "stream",
     "text": [
      "(0, 0)\n",
      "(10, 10)\n"
     ]
    }
   ],
   "source": [
    "print( em_coord_matriz(-200,200) ) \n",
    "print( em_coord_matriz(0,0) ) "
   ]
  },
  {
   "cell_type": "markdown",
   "metadata": {},
   "source": [
    "### Testando exaustivamente"
   ]
  },
  {
   "cell_type": "markdown",
   "metadata": {},
   "source": [
    "Não podemos confiar que essas transformações ocorreram corretamente sem as testar exaustivamente. Os trechos de código a seguir realizam estes testes."
   ]
  },
  {
   "cell_type": "code",
   "execution_count": 28,
   "metadata": {},
   "outputs": [
    {
     "data": {
      "text/plain": [
       "'Todas as transformações de coordenadas funcionaram'"
      ]
     },
     "execution_count": 28,
     "metadata": {},
     "output_type": "execute_result"
    }
   ],
   "source": [
    "def teste1_transf_coord_funcionou():\n",
    "    \"\"\" Testa as transformações de coordenadas \"\"\"\n",
    "    for lin in range(dim):\n",
    "        for col in range(dim):\n",
    "            x, y = em_coord_turtle(lin, col)\n",
    "            if ( not (lin, col) == em_coord_matriz(x, y) ):\n",
    "                return False\n",
    "    return True\n",
    "\n",
    "def teste2_transf_coord_funcionou():\n",
    "    \"\"\" Testa as transformações de coordenadas \"\"\"\n",
    "    meio = dim // 2\n",
    "    tam_celula = 20\n",
    "    n = meio * tam_celula * 10\n",
    "    for k1 in range(-n, n,5):\n",
    "        for k2 in range(n, -n, -5):\n",
    "            x = k1 / 10\n",
    "            y = k2 / 10\n",
    "            lin, col = em_coord_matriz(x, y)\n",
    "            if (not chao_da_celula(x, y) == em_coord_turtle(lin, col) ):\n",
    "                return False\n",
    "    return True\n",
    "\n",
    "def testar_transf_de_coord():\n",
    "    \"\"\" Roda os testes de transformações de coordenadas \"\"\"\n",
    "    if (teste1_transf_coord_funcionou() and \\\n",
    "        teste2_transf_coord_funcionou()):\n",
    "        return \"Todas as transformações de coordenadas funcionaram\"\n",
    "    else:\n",
    "        return \"As transformações de coordenadas não funcionaram\"\n",
    "\n",
    "testar_transf_de_coord()"
   ]
  },
  {
   "cell_type": "code",
   "execution_count": 27,
   "metadata": {},
   "outputs": [],
   "source": [
    "# Repetida aqui para a execução dos testes\n",
    "def em_coord_turtle(lin, col):\n",
    "    meio = dim // 2\n",
    "    x = (col - meio) * tam_celula\n",
    "    y = (meio - lin) * tam_celula\n",
    "    return x, y"
   ]
  }
 ],
 "metadata": {
  "kernelspec": {
   "display_name": "Python 3",
   "language": "python",
   "name": "python3"
  },
  "language_info": {
   "codemirror_mode": {
    "name": "ipython",
    "version": 3
   },
   "file_extension": ".py",
   "mimetype": "text/x-python",
   "name": "python",
   "nbconvert_exporter": "python",
   "pygments_lexer": "ipython3",
   "version": "3.8.3"
  }
 },
 "nbformat": 4,
 "nbformat_minor": 4
}
