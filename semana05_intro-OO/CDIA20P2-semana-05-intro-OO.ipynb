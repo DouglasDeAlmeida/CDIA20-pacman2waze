{
 "cells": [
  {
   "cell_type": "markdown",
   "metadata": {},
   "source": [
    "# ESTRUTURA DE DADOS"
   ]
  },
  {
   "cell_type": "markdown",
   "metadata": {},
   "source": [
    "## CDIA20P2 | Semana 05 | Introdução a Orientação a Objetos"
   ]
  },
  {
   "cell_type": "markdown",
   "metadata": {},
   "source": [
    "## Questão Dirigida"
   ]
  },
  {
   "cell_type": "markdown",
   "metadata": {},
   "source": [
    "Como transformar o código escrito até agora numa aplicação orientada a objetos?"
   ]
  },
  {
   "cell_type": "markdown",
   "metadata": {},
   "source": [
    "## Programação Orientada a Objetos"
   ]
  },
  {
   "cell_type": "markdown",
   "metadata": {},
   "source": [
    "Em linhas gerais, a orientação a objetos é um tipo de programação (i.e., paradigma) em que o funcionamento da aplicação se dá por meio da interação entre objetos. De um modo geral, a Orientação a Objetos possui três pilares fundamentais: *encapsulamento*, *polimorfismo* e *herança*. \n",
    "\n",
    "O objetivo desta etapa de projeto não é nos aprofundar na orientação a objetos, mas apenas redesenhar a aplicação para funcionar por meio da criação de objetos e suas colaborações, definindo responsabilidades."
   ]
  },
  {
   "cell_type": "markdown",
   "metadata": {},
   "source": [
    "### Classes"
   ]
  },
  {
   "cell_type": "markdown",
   "metadata": {},
   "source": [
    "Uma **classe** é a abstração de um conceito relevante para uma aplicação. Exemplos de classes incluem ```Pessoa```, ```Cachorro``` e ```Carro```. Uma classe define atributos, que em termos de implementação representam campos de armazenamento. Ademais, as classes definem métodos, que são equivalentes às funções. Em um nível conceitual, dizemos que uma classe *conhece* os dados de seus atributos e *sabe fazer* os seus métodos. Um outro nome para o que o conjunto de métodos pode fazer é **comportamento**.\n",
    "\n",
    "A figura a seguir ilustra as classes do exemplo anterior, com sugestões de atributos e métodos. Esse esquema de representação segue o padrão da UML (*Unified Modeling Language*). O nome da classe aparece no topo como ```Pessoa```, ```Cachorro``` e ```Carro```. No compartimento seguinte, ficam os atributos, que estão precedidos com o sinal de ```-```, que significa que são **privados**. Atributos privados só podem ser acessados de dentro da própria classe. No compartimento de baixo, ficam os métodos da classe. Os métodos estão precedidos do sinal ```+```, indicando que são públicos. "
   ]
  },
  {
   "cell_type": "markdown",
   "metadata": {},
   "source": [
    "<img src=\"img/classes-2.png\" width=\"50%\">"
   ]
  },
  {
   "cell_type": "markdown",
   "metadata": {},
   "source": [
    "##### Declaração de classes em Python"
   ]
  },
  {
   "cell_type": "markdown",
   "metadata": {},
   "source": [
    "O trecho de código a seguir ilustra como declarar classes em Python."
   ]
  },
  {
   "cell_type": "code",
   "execution_count": 16,
   "metadata": {},
   "outputs": [],
   "source": [
    "class Pessoa:\n",
    "    pass # Permite definir uma classe vazia\n",
    "\n",
    "class Cachorro:\n",
    "    pass # Permite definir uma classe vazia\n",
    "\n",
    "class Carro:\n",
    "    pass # Permite definir uma classe vazia"
   ]
  },
  {
   "cell_type": "markdown",
   "metadata": {},
   "source": [
    "**Atividade**\n",
    "\n",
    "1. Cite outros exemplos de atributos e métodos para ```Pessoa```. \n",
    "\n",
    "2. Cite outros exemplos de atributos e métodos para ```Cachorro```.\n",
    "\n",
    "3. Cite outros exemplos de atributos e métodos para ```Carro```.\n",
    "\n",
    "4. Cite outros exemplos de classe."
   ]
  },
  {
   "cell_type": "markdown",
   "metadata": {},
   "source": [
    "O trecho de código a seguir oferece uma possível implementação da classe ```Pessoa```. A classe é definida com três atributos (```_nome```, ```_altura``` e ```_peso```) e três métodos (```__init__()```, ```falar()``` e ```calcular_IMC()```). "
   ]
  },
  {
   "cell_type": "code",
   "execution_count": 36,
   "metadata": {},
   "outputs": [],
   "source": [
    "class Pessoa:\n",
    "    \n",
    "    def __init__(self, nome, altura, peso):\n",
    "        \"\"\"Construtor\"\"\"\n",
    "        self._nome = nome\n",
    "        self._altura = altura\n",
    "        self._peso = peso\n",
    "        \n",
    "    def falar(self):\n",
    "        \"\"\"Fala suas características pessoais\"\"\"\n",
    "        desc = \"Olá. Me chamo {}. Tenho {:.2f}m de altura e peso {:.2f} kg. Meu IMC é {:.2f}.\"\n",
    "        return desc.format(self._nome, self._altura, self._peso, self.calcular_IMC())\n",
    "    \n",
    "    def calcular_IMC(self):\n",
    "        \"\"\"Calcula o IMC da pessoa\"\"\"\n",
    "        return self._peso / (self._altura ** 2)"
   ]
  },
  {
   "cell_type": "markdown",
   "metadata": {},
   "source": [
    "**Construtor**"
   ]
  },
  {
   "cell_type": "markdown",
   "metadata": {},
   "source": [
    "O construtor é o método responsável pela alocação de recursos necessários à execução do objeto além da definição inicial dos atributos. Em Python, esse método é definido como:\n",
    "\n",
    "```python\n",
    "def __init__(self):\n",
    "```"
   ]
  },
  {
   "cell_type": "markdown",
   "metadata": {},
   "source": [
    "Note que o construtor pode ser definido implicitamente pelo Python, sem que seja necessário declará-lo como no exemplo a seguir. Isto é, embora o construtor não esteja declarado explicitamente como na classe ```Pessoa```, o próprio Python se encarrega de adicioná-lo. No entanto, como veremos, o modo de criação dos objetos da classe ```Passarinho``` será diferente dos objetos da classe ```Pessoa```. "
   ]
  },
  {
   "cell_type": "code",
   "execution_count": 34,
   "metadata": {},
   "outputs": [],
   "source": [
    "class Passarinho:\n",
    "    def piar(self):\n",
    "        return \"Piu piu\""
   ]
  },
  {
   "cell_type": "markdown",
   "metadata": {},
   "source": [
    "**Self**"
   ]
  },
  {
   "cell_type": "markdown",
   "metadata": {},
   "source": [
    "É uma referência ao próprio objeto, a ser utilizada dentro da definição do objeto. Todo método em Python deve iniciar com essa referência como primeiro parâmetro por convenção. Ele é utilizado para que a classe possa se referir aos seus atributos e métodos. Um modo conveniente de pensarmos sobre o papel que o ```self``` desempenha é imaginá-lo como um pronome possessivo. Frequentemente dizemos coisas como *minha* boca e *meu* nariz. Leia novamente a classe ```Pessoa```. Veja que toda referência a seus atributos e métodos é precedida pelo ```self```."
   ]
  },
  {
   "cell_type": "markdown",
   "metadata": {},
   "source": [
    "### Objetos e Instâncias"
   ]
  },
  {
   "cell_type": "markdown",
   "metadata": {},
   "source": [
    "Classes são templates de objetos. Um objeto é gerado de uma classe, com valores específicos e, em termos de implementação, representa nada mais que um tipo de dados, com espaço em memória e funções que atuam sobre estes dados. Objetos e instâncias são sinônimos. A figura a seguir ilustra a criação de objetos da classe ```Pessoa```."
   ]
  },
  {
   "cell_type": "markdown",
   "metadata": {},
   "source": [
    "<img src=\"img/objetos-3.png\" width=\"50%\" />"
   ]
  },
  {
   "cell_type": "markdown",
   "metadata": {},
   "source": [
    "O trecho de código a seguir ilustra a instanciação de objetos da classe ```Pessoa```. "
   ]
  },
  {
   "cell_type": "code",
   "execution_count": 38,
   "metadata": {},
   "outputs": [
    {
     "data": {
      "text/plain": [
       "'Olá. Me chamo Jeff. Tenho 1.70m de altura e peso 69.00 kg. Meu IMC é 23.88.'"
      ]
     },
     "execution_count": 38,
     "metadata": {},
     "output_type": "execute_result"
    }
   ],
   "source": [
    "jeff = Pessoa(\"Jeff\", 1.7, 69.0) # os argumentos serão passados para o construtor da classe\n",
    "jeff.falar()"
   ]
  },
  {
   "cell_type": "code",
   "execution_count": 39,
   "metadata": {},
   "outputs": [
    {
     "data": {
      "text/plain": [
       "'Olá. Me chamo João. Tenho 1.90m de altura e peso 100.00 kg. Meu IMC é 27.70.'"
      ]
     },
     "execution_count": 39,
     "metadata": {},
     "output_type": "execute_result"
    }
   ],
   "source": [
    "joao = Pessoa(\"João\", 1.9, 100.0) # os argumentos serão passados para o construtor da classe\n",
    "joao.falar()"
   ]
  },
  {
   "cell_type": "code",
   "execution_count": 40,
   "metadata": {},
   "outputs": [
    {
     "data": {
      "text/plain": [
       "'Olá. Me chamo Maria. Tenho 1.75m de altura e peso 65.00 kg. Meu IMC é 21.22.'"
      ]
     },
     "execution_count": 40,
     "metadata": {},
     "output_type": "execute_result"
    }
   ],
   "source": [
    "maria = Pessoa(\"Maria\", 1.75, 65.0) # os argumentos serão passados para o construtor da classe\n",
    "maria.falar()"
   ]
  },
  {
   "cell_type": "markdown",
   "metadata": {},
   "source": [
    "Note que para criar objetos do tipo ```Pessoa``` temos que passar um ```nome```, ```altura``` e ```peso```. Essa obrigatoriedade ocorre porque definimos no construtor da classe ```Pessoa``` parâmetros obrigatórios. Isto não acontece na instanciação de objetos da classe ```Passarinho```."
   ]
  },
  {
   "cell_type": "code",
   "execution_count": 35,
   "metadata": {},
   "outputs": [
    {
     "data": {
      "text/plain": [
       "'Piu piu'"
      ]
     },
     "execution_count": 35,
     "metadata": {},
     "output_type": "execute_result"
    }
   ],
   "source": [
    "passarinho = Passarinho()\n",
    "passarinho.piar()"
   ]
  },
  {
   "cell_type": "markdown",
   "metadata": {},
   "source": [
    "**Atividade**\n",
    "\n",
    "5. Implemente as classes ```Cachorro``` e ```Carro``` com os atributos os métodos que você pensou bem como outros a sua escolha.\n",
    "\n",
    "6. Proponha outras classes e as implemente. Compartilhe com o restante da classe."
   ]
  },
  {
   "cell_type": "markdown",
   "metadata": {},
   "source": [
    "#### Outras classes possíveis"
   ]
  },
  {
   "cell_type": "markdown",
   "metadata": {},
   "source": [
    "*Pessoas*, *Cachorros* e *Carros* representam abstrações para as quais conseguimos facilmente pensar em instâncias concretas. Afinal, somos todos pessoas, desfrutamos da companhia de nossos cães e vemos carros em todo lugar. No entanto, classes podem representar conceitos mais abstratos como uma ```ContaCorrente```, ```PontoGrafico``` ou ```Rota```."
   ]
  },
  {
   "cell_type": "markdown",
   "metadata": {},
   "source": [
    "<img src=\"img/mais-classes.png\" width=\"50%\"/>"
   ]
  },
  {
   "cell_type": "markdown",
   "metadata": {},
   "source": [
    "### Uma técnica para identificar classes"
   ]
  },
  {
   "cell_type": "markdown",
   "metadata": {},
   "source": [
    "Identificar classes é frequentemente um desafio. Quando não feita adequadamente, as classes complicam a estrutura lógica da aplicação, reduzem a reusabilidade e prejudicam a manutenção de todo o software. Classes podem ser descobertas de muitas maneiras como por exemplo analisando-se a descrição de um futuro sistema e procurando por verbos (ações, métodos) e substantivos (atributos). Ainda, pode-se utilizar cartões CRC. Esse assunto é relativo à engenharia de software, que não vamos tratar aqui.\n",
    "\n",
    "Aqui, nós vamos exercitar a identificação de classes a partir da análise de funções e seus parâmetros. Por exemplo, considere os casos a seguir."
   ]
  },
  {
   "cell_type": "markdown",
   "metadata": {},
   "source": [
    "#### Caso 1"
   ]
  },
  {
   "cell_type": "markdown",
   "metadata": {},
   "source": [
    "Uma função de cálculo de área."
   ]
  },
  {
   "cell_type": "code",
   "execution_count": 41,
   "metadata": {},
   "outputs": [
    {
     "data": {
      "text/plain": [
       "25"
      ]
     },
     "execution_count": 41,
     "metadata": {},
     "output_type": "execute_result"
    }
   ],
   "source": [
    "def area(lado):\n",
    "    return lado ** 2\n",
    "area(5)"
   ]
  },
  {
   "cell_type": "markdown",
   "metadata": {},
   "source": [
    "Uma possível classe para esta função é:"
   ]
  },
  {
   "cell_type": "code",
   "execution_count": 42,
   "metadata": {},
   "outputs": [
    {
     "data": {
      "text/plain": [
       "25"
      ]
     },
     "execution_count": 42,
     "metadata": {},
     "output_type": "execute_result"
    }
   ],
   "source": [
    "class Quadrado:\n",
    "    def __init__(self, lado):\n",
    "        self._lado = lado\n",
    "    def area(self):\n",
    "        return self._lado ** 2\n",
    "    \n",
    "q = Quadrado(5)\n",
    "q.area()"
   ]
  },
  {
   "cell_type": "markdown",
   "metadata": {},
   "source": [
    "#### Caso 2"
   ]
  },
  {
   "cell_type": "markdown",
   "metadata": {},
   "source": [
    "Uma função de soma de termos."
   ]
  },
  {
   "cell_type": "code",
   "execution_count": 43,
   "metadata": {},
   "outputs": [
    {
     "data": {
      "text/plain": [
       "5"
      ]
     },
     "execution_count": 43,
     "metadata": {},
     "output_type": "execute_result"
    }
   ],
   "source": [
    "def soma(a, b):\n",
    "    return a + b\n",
    "soma(2,3)"
   ]
  },
  {
   "cell_type": "markdown",
   "metadata": {},
   "source": [
    "Uma possível classe."
   ]
  },
  {
   "cell_type": "code",
   "execution_count": 44,
   "metadata": {},
   "outputs": [
    {
     "data": {
      "text/plain": [
       "5"
      ]
     },
     "execution_count": 44,
     "metadata": {},
     "output_type": "execute_result"
    }
   ],
   "source": [
    "class Calculadora:\n",
    "    def soma(self, a, b):\n",
    "        return a + b\n",
    "c = Calculadora()\n",
    "c.soma(2,3)"
   ]
  },
  {
   "cell_type": "markdown",
   "metadata": {},
   "source": [
    "#### Caso 3"
   ]
  },
  {
   "cell_type": "markdown",
   "metadata": {},
   "source": [
    "Funções que executam comandos e os desfazem logo em seguida."
   ]
  },
  {
   "cell_type": "code",
   "execution_count": 50,
   "metadata": {},
   "outputs": [
    {
     "name": "stdout",
     "output_type": "stream",
     "text": [
      "Executando Comando 1\n",
      "Executando Comando 2\n",
      "Executando Comando 3\n",
      "Desfazendo Comando 3\n",
      "Desfazendo Comando 2\n",
      "Desfazendo Comando 1\n"
     ]
    }
   ],
   "source": [
    "lst_de_comandos = []\n",
    "\n",
    "def executar(i, lst_de_comandos):\n",
    "    comando = \"Comando {}\".format(i)\n",
    "    print(\"Executando \" + comando)\n",
    "    lst_de_comandos.insert(0, comando) # Guarda comando na lista de comandos\n",
    "    \n",
    "def desfazer(lst_de_comandos):\n",
    "    if (len(lst_de_comandos) > 0):\n",
    "        cmd = lst_de_comandos.pop(0)\n",
    "        print(\"Desfazendo \" + cmd)\n",
    "\n",
    "i = 0\n",
    "i += 1\n",
    "executar(i, lst_de_comandos)\n",
    "i += 1\n",
    "executar(i, lst_de_comandos)\n",
    "i += 1\n",
    "executar(i, lst_de_comandos)\n",
    "\n",
    "desfazer(lst_de_comandos)\n",
    "desfazer(lst_de_comandos)\n",
    "desfazer(lst_de_comandos)"
   ]
  },
  {
   "cell_type": "markdown",
   "metadata": {},
   "source": [
    "Uma possível classe."
   ]
  },
  {
   "cell_type": "code",
   "execution_count": 49,
   "metadata": {},
   "outputs": [
    {
     "name": "stdout",
     "output_type": "stream",
     "text": [
      "Executando Comando 1\n",
      "Executando Comando 2\n",
      "Executando Comando 3\n",
      "Desfazendo Comando 3\n",
      "Desfazendo Comando 2\n",
      "Desfazendo Comando 1\n"
     ]
    }
   ],
   "source": [
    "class Comando:\n",
    "    def __init__(self):\n",
    "        self._lst_comandos = []\n",
    "        self._contador = 0\n",
    "        \n",
    "    def executar(self):\n",
    "        self._contador += 1\n",
    "        comando = \"Comando {}\".format(self._contador)\n",
    "        print(\"Executando \" + comando)\n",
    "        self._lst_comandos.insert(0, comando) # Guarda comando na lista de comandos\n",
    "\n",
    "    def desfazer(self):\n",
    "        if (len(self._lst_comandos) > 0):\n",
    "            self._contador -= 1\n",
    "            cmd = self._lst_comandos.pop(0)\n",
    "            print(\"Desfazendo \" + cmd)\n",
    "\n",
    "cmd = Comando()\n",
    "cmd.executar()\n",
    "cmd.executar()\n",
    "cmd.executar()\n",
    "cmd.desfazer()\n",
    "cmd.desfazer()\n",
    "cmd.desfazer()"
   ]
  },
  {
   "cell_type": "markdown",
   "metadata": {},
   "source": [
    "## Tarefa de projeto para a próxima semana (01/09)"
   ]
  },
  {
   "cell_type": "markdown",
   "metadata": {},
   "source": [
    "A próxima etapa do projeto consiste em transformar a aplicação que desenvolvemos até agora numa versão orientada a objetos. A listagem a seguir mostra as funções que implementamos até este momento."
   ]
  },
  {
   "cell_type": "markdown",
   "metadata": {},
   "source": [
    "A seguir, apresentamos uma descrição mais geral da tarefa. Você deve obter a versão para implementação na [página](https://github.com/j3ffsilva/CDIA20-pacman2waze/tree/master/semana05_intro-OO) GitHub do projeto na pasta da semana 05."
   ]
  },
  {
   "cell_type": "markdown",
   "metadata": {},
   "source": [
    "Arquivo: ```pacman.py```\n",
    "\n",
    "Este arquivo não deve ser alterado."
   ]
  },
  {
   "cell_type": "code",
   "execution_count": null,
   "metadata": {},
   "outputs": [],
   "source": [
    "#!/usr/bin/env python3\n",
    "# -*- coding: utf-8 -*-\n",
    "\n",
    "from agente import *\n",
    "from labirinto import *\n",
    "\n",
    "def main():\n",
    "\n",
    "    dimensao_da_matriz = 20\n",
    "    tam_celula = 20\n",
    "\n",
    "    # Cria o labirinto\n",
    "    lab = Labirinto(dimensao_da_matriz, tam_celula)\n",
    "    lab.criar_labirinto()\n",
    "\n",
    "    # Cria o agente\n",
    "    tam_agente = 20\n",
    "    agente = Agente(tam_agente, tam_celula)\n",
    "\n",
    "    # Obtém as coordenadas de onde inserir o agente e desenha na tela\n",
    "    lin, col = lab.cel_aleatoria()\n",
    "    x, y = lab.em_coord_turtle(lin, col)\n",
    "    agente.desenhar_agente(x, y, 'yellow')\n",
    "\n",
    "    # Atualiza o turtle e finaliza\n",
    "    update()\n",
    "    done()\n",
    "\n",
    "main()"
   ]
  },
  {
   "cell_type": "markdown",
   "metadata": {},
   "source": [
    "Arquivo: ```agente.py```\n",
    "\n",
    "Transforme as funções deste arquivo na classe Agente com atributos e métodos."
   ]
  },
  {
   "cell_type": "code",
   "execution_count": null,
   "metadata": {},
   "outputs": [],
   "source": [
    "#!/usr/bin/env python3\n",
    "# -*- coding: utf-8 -*-\n",
    "\n",
    "from turtle import *\n",
    "\n",
    "def desenhar_agente(x, y, cor):\n",
    "    \"\"\" Leva a tartaruga até a posição (x,y) e desenha por exemplo um círculo\n",
    "        para representar o agente (i.e., pacman, fantasmas)\n",
    "    \"\"\"\n",
    "    c = tam_celula // 2\n",
    "    up()\n",
    "    goto(x + c,y + c)\n",
    "    down()\n",
    "    dot(tam_agente, cor)"
   ]
  },
  {
   "cell_type": "markdown",
   "metadata": {},
   "source": [
    "Arquivo: ```labirinto.py```\n",
    "\n",
    "1. Transforme as funções deste arquivo na classe Labirinto com atributos e métodos. (Dica: No construtor, carregue a matriz via chamada de método.)\n",
    "\n",
    "2. Implemente a função obter vizinhos. Esta função deve retornar uma lista com os vizinhos (cima, baixo, esquerda, direita) da célula que são caminho. As coordenadas (lin, col) são da matriz. Por exemplo, na matriz a seguir:\n",
    "```python\n",
    "[ 0  1  0 ]\n",
    "[ 1  1  0 ]\n",
    "[ 0  0  1 ]\n",
    "```\n",
    "Os vizinhos do elemento central (1,1) incluem o de cima (0,1) e o da esquerda (1,0). O vizinho de baixo (2,1) e o da direita (1,2) não são incluídos porque estão com valor 0. Nem os elementos da diagonal porque não entram na definição de vizinhança adotada aqui."
   ]
  },
  {
   "cell_type": "code",
   "execution_count": null,
   "metadata": {},
   "outputs": [],
   "source": [
    "#!/usr/bin/env python3\n",
    "# -*- coding: utf-8 -*-\n",
    "\n",
    "from utils import floor\n",
    "from turtle import *\n",
    "import numpy as np\n",
    "\n",
    "\"\"\"\n",
    "Dica: carregue a matriz no construtor da classe Labirinto via chamada de método\n",
    "\"\"\"\n",
    "\n",
    "def obter_vizinhos(lin, col):\n",
    "    \"\"\" Retorna uma lista com os vizinhos (cima, baixo, esquerda, direita) da célula que são caminho.\n",
    "        As coordenadas (lin, col) são da matriz. Por exemplo, na matriz a seguir:\n",
    "        [[ 0  1  0 ]\n",
    "         [ 1  1  0 ]\n",
    "         [ 0  0  1 ]]\n",
    "         Os vizinhos do elemento central (1,1) incluem o de cima (0,1) e o da\n",
    "         esquerda (1,0). O vizinho de baixo (2,1) e o da direita (1,2) não são\n",
    "         incluídos porque estão com valor 0. Nem os elementos da diagonal porque\n",
    "         não entram na definição de vizinhança adotada aqui.\n",
    "    \"\"\"\n",
    "    pass\n",
    "\n",
    "def ler_matriz_fixa():\n",
    "    \"\"\" Retorna uma matriz fixa \"\"\"\n",
    "    return [[0,0,0,0,0,0,0,0,0,0,1,0,0,0,0,0,0,0,0,0],\\\n",
    "            [0,0,0,0,0,0,0,0,0,0,1,0,0,0,0,0,0,0,0,0],\\\n",
    "            [0,0,0,0,0,0,0,0,0,0,1,0,0,0,0,0,0,0,0,0],\\\n",
    "            [0,0,0,0,0,0,0,0,0,0,1,0,0,0,0,0,0,0,0,0],\\\n",
    "            [0,0,0,0,0,0,0,0,0,0,1,0,0,0,0,0,0,0,0,0],\\\n",
    "            [0,0,0,0,0,0,0,0,0,0,1,0,0,0,0,0,0,0,0,0],\\\n",
    "            [0,0,0,0,0,0,0,0,0,0,1,0,0,0,0,0,0,0,0,0],\\\n",
    "            [0,0,0,0,0,0,0,0,0,0,1,0,0,0,0,0,0,0,0,0],\\\n",
    "            [0,0,0,0,0,0,0,0,0,0,1,0,0,0,0,0,0,0,0,0],\\\n",
    "            [1,1,1,1,1,1,1,1,1,1,1,1,1,1,1,1,1,1,1,1],\\\n",
    "            [0,0,0,0,0,0,0,0,0,0,1,0,0,0,0,0,0,0,0,0],\\\n",
    "            [0,0,0,0,0,0,0,0,0,0,1,0,0,0,0,0,0,0,0,0],\\\n",
    "            [0,0,0,0,0,0,0,0,0,0,1,0,0,0,0,0,0,0,0,0],\\\n",
    "            [0,0,0,0,0,0,0,0,0,0,1,0,0,0,0,0,0,0,0,0],\\\n",
    "            [0,0,0,0,0,0,0,0,0,0,1,0,0,0,0,0,0,0,0,0],\\\n",
    "            [0,0,0,0,0,0,0,0,0,0,1,0,0,0,0,0,0,0,0,0],\\\n",
    "            [0,0,0,0,0,0,0,0,0,0,1,0,0,0,0,0,0,0,0,0],\\\n",
    "            [0,0,0,0,0,0,0,0,0,0,1,0,0,0,0,0,0,0,0,0],\\\n",
    "            [0,0,0,0,0,0,0,0,0,0,1,0,0,0,0,0,0,0,0,0],\\\n",
    "            [0,0,0,0,0,0,0,0,0,0,1,0,0,0,0,0,0,0,0,0]]\n",
    "\n",
    "\n",
    "def ler_matriz_aleatoria(dim):\n",
    "    \"\"\" Retorna uma matriz quadrada na dimensão especificada com números\n",
    "        aleatórios (0's e 1's)\n",
    "        Dica: utilize numpy.random.randint()\n",
    "    \"\"\"\n",
    "    return np.random.randint(2,size=(dim,dim))\n",
    "\n",
    "\n",
    "def criar_labirinto(p1=500, p2=500, p3=370, p4=0):\n",
    "    \"\"\" Cria o gráfico do labirinto baseado nos valores da matriz \"\"\"\n",
    "    tracer(False)\n",
    "    hideturtle()\n",
    "    bgcolor('black')\n",
    "    setup(p1, p2, p3, p4)\n",
    "\n",
    "    # Para cada linha da matriz\n",
    "    for lin in range(dim):\n",
    "        # Para cada coluna da matriz\n",
    "        for col in range(dim):\n",
    "            # Testa se a coordenada da matriz (lin, col) é caminho (=1)\n",
    "            if (matriz[lin][col] == 1):\n",
    "                # Em caso positivo, transforma em coordenada Turtle.\n",
    "                # Atenção: Numa coordenada Turtle (x,y), o eixo x refere-se à coluna e o eixo y à linha\n",
    "                # Numa coordenada da matriz (lin, col), o primeiro elemento é a linha e o segundo a coluna\n",
    "                x, y = em_coord_turtle(lin, col)\n",
    "                # Pinta a celula na posição (x,y) com a cor especificada\n",
    "                desenhar_celula(x, y, 'blue')\n",
    "\n",
    "                desenhar_pastilha(x, y, 'white')\n",
    "\n",
    "def desenhar_celula(x, y, cor):\n",
    "    \"\"\" Dada uma coordenada (x, y) do Turtle, desenha um quadrado (célula) na posição \"\"\"\n",
    "    color(cor)\n",
    "    up()\n",
    "    goto(x,y)\n",
    "    down()\n",
    "    begin_fill()\n",
    "    for _ in range(4):\n",
    "        forward(tam_celula)\n",
    "        left(90)\n",
    "    end_fill()\n",
    "    up()\n",
    "\n",
    "def chao_da_celula(x, y):\n",
    "    \"\"\" Dadas coordenadas do Turtle (x,y), retorna as coordenadas do início de uma célula.\n",
    "        Por exemplo, na celula da origem com tamanho 20, a coordenada Turtle (10,10)\n",
    "        representa o meio da célula. A chamada de função 'chao_da_celula(10, 10)' retorna\n",
    "        as coordenadas de início dessa célula (0,0)\n",
    "        Dica: para entender, veja o exemplo da função: 'uso_do_floor()''\n",
    "    \"\"\"\n",
    "    chao_x = int(floor(x, tam_celula))\n",
    "    chao_y = int(floor(y, tam_celula))\n",
    "    return chao_x, chao_y\n",
    "\n",
    "def em_coord_turtle(lin, col):\n",
    "    \"\"\" Dados os índices da matriz (lin, col), retorna as coordenadas do Turtle correspondentes.\n",
    "        Por exemplo, numa matriz quadrada de dimensão 20, com tamanho de célula 20,\n",
    "        a chamada de função 'em_coord_turtle(0,0)' deve retornar (-200,200) e a\n",
    "        chamada de função 'em_coord_turtle(10,10)' deve retornar (0,0)\n",
    "    \"\"\"\n",
    "    meio = dim // 2\n",
    "    x = (col - meio) * tam_celula\n",
    "    y = (meio - lin) * tam_celula\n",
    "    return x, y\n",
    "\n",
    "def em_coord_matriz(x, y):\n",
    "    \"\"\" Dada uma coordenada do Turtle (x,y), retorna os índices correspondentes da matriz\n",
    "        Por exemplo, numa matriz quadrada de dimensão 20, com tamanho de célula 20,\n",
    "        a chamada de função 'em_coord_matriz(-200, 200)' deve retornar (0,0) e a\n",
    "        chamada de função 'em_coord_matriz(0, 0)' deve retornar (10,10).\n",
    "        Dica: utilize a função 'chao_da_celula(x, y)'\n",
    "    \"\"\"\n",
    "    x, y = chao_da_celula(x, y)\n",
    "    meio = dim // 2\n",
    "    lin = int(meio - (y / tam_celula))\n",
    "    col = int(meio + (x / tam_celula))\n",
    "    return lin, col\n",
    "\n",
    "def cel_aleatoria():\n",
    "    \"\"\" Retorna os índices de uma posição que contenha 1\n",
    "        Por exemplo, na matriz a seguir:\n",
    "        [[ 1  0  0 ]\n",
    "         [ 0  1  0 ]\n",
    "         [ 0  0  1 ]]\n",
    "        Somente os elementos da diagonal principal [(0,0), (1,1), (2,2)]\n",
    "        poderiam ser retornados\n",
    "        Dica: utilize numpy.random.randint()\n",
    "    \"\"\"\n",
    "    i, j = np.random.randint(dim, size=(2))\n",
    "    while (not eh_caminho(i, j)):\n",
    "        i, j = np.random.randint(dim, size=(2))\n",
    "    return i, j\n",
    "\n",
    "def eh_caminho(lin, col):\n",
    "    \"\"\" Dada uma matriz quadrada, retorna True quando (lin, col) == 1 e\n",
    "        False caso contrário.\n",
    "        Por exemplo, na matriz a seguir:\n",
    "        [[ 1  0  0 ]\n",
    "         [ 0  1  0 ]\n",
    "         [ 0  0  1 ]]\n",
    "        a chamada de função 'eh_caminho(0,0)' retorna True e\n",
    "        a chamada de função 'eh_caminho(0,1)' retorna False\n",
    "    \"\"\"\n",
    "    return matriz[lin][col] == 1\n",
    "\n",
    "def desenhar_pastilha(x, y, cor):\n",
    "    \"\"\" Leva a tartaruga até a posição (x,y) e desenha por exemplo um círculo\n",
    "        para representar a pastilha\n",
    "    \"\"\"\n",
    "    c = tam_celula // 2\n",
    "    up()\n",
    "    goto(x + c,y + c)\n",
    "    down()\n",
    "    dot(3, cor)"
   ]
  }
 ],
 "metadata": {
  "kernelspec": {
   "display_name": "Python 3",
   "language": "python",
   "name": "python3"
  },
  "language_info": {
   "codemirror_mode": {
    "name": "ipython",
    "version": 3
   },
   "file_extension": ".py",
   "mimetype": "text/x-python",
   "name": "python",
   "nbconvert_exporter": "python",
   "pygments_lexer": "ipython3",
   "version": "3.8.3"
  }
 },
 "nbformat": 4,
 "nbformat_minor": 4
}
