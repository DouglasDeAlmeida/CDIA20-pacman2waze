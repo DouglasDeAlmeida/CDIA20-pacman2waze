{
 "cells": [
  {
   "cell_type": "markdown",
   "metadata": {},
   "source": [
    "# ESTRUTURA DE DADOS"
   ]
  },
  {
   "cell_type": "markdown",
   "metadata": {},
   "source": [
    "## CDIA20P2 | Semana 03 | A criação do Labirinto"
   ]
  },
  {
   "cell_type": "markdown",
   "metadata": {},
   "source": [
    "## Solução de etapa de projeto"
   ]
  },
  {
   "cell_type": "markdown",
   "metadata": {},
   "source": [
    "#### A partir de uma matriz fixa"
   ]
  },
  {
   "cell_type": "markdown",
   "metadata": {},
   "source": [
    "Vamos criar um labirinto utilizando a biblioteca Turtle do Python, que já vem pré-instalada. Para usá-la, basta importar a biblioteca."
   ]
  },
  {
   "cell_type": "code",
   "execution_count": 16,
   "metadata": {},
   "outputs": [],
   "source": [
    "from turtle import *"
   ]
  },
  {
   "cell_type": "markdown",
   "metadata": {},
   "source": [
    "**Entendendo o sistema de coordenadas do Turtle**"
   ]
  },
  {
   "cell_type": "markdown",
   "metadata": {},
   "source": [
    "No sistema de coordenadas do Turtle, a origem ocorre no ponto central da tela. O triângulo representa a tartaruga."
   ]
  },
  {
   "cell_type": "markdown",
   "metadata": {},
   "source": [
    "<img src=\"img/sist-coord-turtle.png\" width=70%/>"
   ]
  },
  {
   "cell_type": "markdown",
   "metadata": {},
   "source": [
    "**Como desenhar um quadrado no Turtle?**"
   ]
  },
  {
   "cell_type": "markdown",
   "metadata": {},
   "source": [
    "Para se criar um labirinto, precisamos desenhar na tela uma série de quadrados. A figura a seguir ilustra a criação de um quadrado de dimensão 20 na tela. Qualquer outro tamanho pode ser escolhido."
   ]
  },
  {
   "cell_type": "markdown",
   "metadata": {},
   "source": [
    "<img src=\"img/quadrado-turtle.png\" width=70% />"
   ]
  },
  {
   "cell_type": "code",
   "execution_count": 2,
   "metadata": {},
   "outputs": [],
   "source": [
    "t = Turtle()\n",
    "tamanho_quadrado = 20 # O tamanho 20 é arbitrário\n",
    "for _ in range(4):\n",
    "   t.forward(tamanho_quadrado)\n",
    "   t.left(90)\n",
    "done()"
   ]
  },
  {
   "cell_type": "markdown",
   "metadata": {},
   "source": [
    "**Como desenhar um quadrado em outro lugar na tela?**"
   ]
  },
  {
   "cell_type": "markdown",
   "metadata": {},
   "source": [
    "Suponha que se queira desenhar um quadrado na posição $x=-200$ e $y=180$ como ilustrado na figura a seguir. A tarefa consiste em levar a tartaruga até a posição desejada e desenhar o quadrado."
   ]
  },
  {
   "cell_type": "markdown",
   "metadata": {},
   "source": [
    "<img src=\"img/quadrado-turtle-em-outro-lugar.png\" width=70% />"
   ]
  },
  {
   "cell_type": "code",
   "execution_count": null,
   "metadata": {},
   "outputs": [],
   "source": [
    "t = Turtle()\n",
    "tamanho_quadrado = 20\n",
    "t.up() # Levanta a caneta da tartaruga para que ela não escreva quando se deslocar\n",
    "t.goto(-200,180) # Vai a posição especificada\n",
    "t.down() # Abaixa a caneta para a tartaruga poder escrever\n",
    "\n",
    "for _ in range(4):\n",
    "   t.forward(tamanho_quadrado)\n",
    "   t.left(90)\n",
    "done()"
   ]
  },
  {
   "cell_type": "markdown",
   "metadata": {},
   "source": [
    "Esse mesmo código pode ser abstraído para se desenhar quadrados de qualquer tamanho e em qualquer posição na tela criando-se uma função específica como a seguir. A partir de agora, chamaremos o quadrado de célula."
   ]
  },
  {
   "cell_type": "code",
   "execution_count": null,
   "metadata": {},
   "outputs": [],
   "source": [
    "def desenhar_celula(x, y, lado, t):\n",
    "  t.up()\n",
    "  t.goto(x,y)\n",
    "  t.down()\n",
    "  for _ in range(4):\n",
    "    t.forward(lado)\n",
    "    t.left(90)\n",
    "    \n",
    "t = Turtle()\n",
    "lado = 20\n",
    "desenhar_celula(-200,180,lado,t)\n",
    "done()"
   ]
  },
  {
   "cell_type": "markdown",
   "metadata": {},
   "source": [
    "**Como desenhar uma grade (i.e., matriz) na tela?**"
   ]
  },
  {
   "cell_type": "markdown",
   "metadata": {},
   "source": [
    "Uma grade (ou matriz) pode ser desenhada utilizando-se a função ```desenhar_celula(x, y, lado)``` que acabamos de criar. A figura a seguir ilustra uma grade com células de lado 20."
   ]
  },
  {
   "cell_type": "markdown",
   "metadata": {},
   "source": [
    "<img src=\"img/grade-turtle.png\" width=60% />"
   ]
  },
  {
   "cell_type": "markdown",
   "metadata": {},
   "source": [
    "Note que a área -200,200 para os eixos $x$ e $y$ foi escolhida arbitrariamente. Outros valores poderiam ter sido escolhidos."
   ]
  },
  {
   "cell_type": "code",
   "execution_count": null,
   "metadata": {},
   "outputs": [],
   "source": [
    "t = Turtle()\n",
    "lado = 20\n",
    "for x in range(-200, 200, lado):\n",
    "    for y in range(200, -200, -lado):\n",
    "        desenhar_celula(x, y, lado, t)\n",
    "done()"
   ]
  },
  {
   "cell_type": "markdown",
   "metadata": {},
   "source": [
    "#### A criação do labirinto a partir da estrutura de dados matriz (listas de listas)"
   ]
  },
  {
   "cell_type": "markdown",
   "metadata": {},
   "source": [
    "A criação do labirinto deve ser feita a partir da leitura da matriz que, neste projeto, será uma lista de listas. Um exemplo de uma matriz implementada em listas é dado a seguir."
   ]
  },
  {
   "cell_type": "code",
   "execution_count": 4,
   "metadata": {},
   "outputs": [
    {
     "name": "stdout",
     "output_type": "stream",
     "text": [
      "[[1, 0, 1], [1, 0, 1], [1, 1, 1]]\n"
     ]
    }
   ],
   "source": [
    "# Declaração de uma matriz com listas\n",
    "matriz = [                \\\n",
    "            [1, 0, 1],    \\\n",
    "            [1, 0, 1],    \\\n",
    "            [1, 1, 1]     \\\n",
    "         ]\n",
    "print(matriz)"
   ]
  },
  {
   "cell_type": "markdown",
   "metadata": {},
   "source": [
    "Para acessar um determinado elemento, basta colocar os índices da linha e coluna utilizando a seguinte sintaxe."
   ]
  },
  {
   "cell_type": "code",
   "execution_count": 7,
   "metadata": {},
   "outputs": [
    {
     "data": {
      "text/plain": [
       "1"
      ]
     },
     "execution_count": 7,
     "metadata": {},
     "output_type": "execute_result"
    }
   ],
   "source": [
    "lin, col = 0, 0\n",
    "# O acesso a um elemento da matriz\n",
    "matriz[lin][col]"
   ]
  },
  {
   "cell_type": "markdown",
   "metadata": {},
   "source": [
    "A figura a seguir ilustra uma matriz de 20 linhas por 20 colunas. As linhas e colunas que contém 1 serão interpretadas como sendo caminho ao passo que as posições indicadas com 0, bloqueios. Cada posição da matriz será acessada usando a seguinte convenção: ```matriz[lin][col]```."
   ]
  },
  {
   "cell_type": "markdown",
   "metadata": {},
   "source": [
    "<img src=\"img/sist-coord-matriz.png\" width=50%>"
   ]
  },
  {
   "cell_type": "markdown",
   "metadata": {},
   "source": [
    "Note que existe a necessidade de um mapeamento entre as coordenadas do Turtle e as linhas e colunas da matriz. Por exemplo, o elemento ```matriz[0][0]``` (i.e., canto superior esquerdo) deverá corresponder ao quadrado que abrange todos os pontos das coordenadas Turtle no seguinte intervalo $[-200,-180[$ no eixo $x$ e $[200,220[$ no eixo $y$.\n",
    "\n",
    "Um outro exemplo é o elemento ```matriz[10][10]``` (i.e., no meio da matriz, no ponto de origem das coordenadas Turtle). Esse elemento deverá corresponder ao quadrado Turtle no seguinte intervalo $[0,20[$ nos eixos $x$ e $y$.\n",
    "\n",
    "Para facilitar, vamos nos referir a estes quadrados por seus pontos iniciais. Por exemplo, o elemento ```matriz[0][0]``` deverá corresponder à coordenada Turtle $(-200,200)$ e ```matriz[10][10]``` deverá corresponder à coordenada Turtle $(0,0)$ por ser o ponto que a tartaruga começou a desenhar os quadrados."
   ]
  },
  {
   "cell_type": "markdown",
   "metadata": {},
   "source": [
    "<img src=\"img/a-matriz-na-grade.png\" width=60%/>"
   ]
  },
  {
   "cell_type": "markdown",
   "metadata": {},
   "source": [
    "A figura a seguir ilustra como a matriz deve ser renderizada pelo Turtle."
   ]
  },
  {
   "cell_type": "markdown",
   "metadata": {},
   "source": [
    "<img src=\"img/labirinto-projeção.png\" width=50%/>"
   ]
  },
  {
   "cell_type": "markdown",
   "metadata": {},
   "source": [
    "**Criando as funções de mapeamento**"
   ]
  },
  {
   "cell_type": "markdown",
   "metadata": {},
   "source": [
    "A função de mapeamento entre a matriz e o Turtle deve se basear em algum padrão. Podemos tirar vantagem do fato que o ponto de origem Turtle ocorre no meio da matriz. No caso de uma matriz de 20x20 elementos já vimos que o ponto de origem Turtle ocorre em ```matriz[10][10]```. Logo, o ```meio``` será 10. A figura a seguir ilustra a relação entre as coordenadas da matriz e o Turtle juntamente com o deslocamento em relação ao meio."
   ]
  },
  {
   "cell_type": "markdown",
   "metadata": {},
   "source": [
    "<img src=\"img/relação-entre-coord.png\" width=80% />"
   ]
  },
  {
   "cell_type": "markdown",
   "metadata": {},
   "source": [
    "Podemos observar que podemos mapear a coordenada Turtle no eixo $x$ pegando o índice da coluna, subtraindo o elemento central e multiplicando pelo tamanho da célula, que no nosso caso é $20$."
   ]
  },
  {
   "cell_type": "code",
   "execution_count": 2,
   "metadata": {},
   "outputs": [
    {
     "data": {
      "text/plain": [
       "-200"
      ]
     },
     "execution_count": 2,
     "metadata": {},
     "output_type": "execute_result"
    }
   ],
   "source": [
    "dimensao_da_matriz = 20\n",
    "tam_celula = 20\n",
    "meio = dimensao_da_matriz // 2\n",
    "col = 0 # Representa o índice da coluna\n",
    "x = (col - meio) * tam_celula\n",
    "x"
   ]
  },
  {
   "cell_type": "markdown",
   "metadata": {},
   "source": [
    "Podemos obter a coordenada $y$ similarmente com a diferença que temos que inverter o sinal da coordenada."
   ]
  },
  {
   "cell_type": "code",
   "execution_count": 3,
   "metadata": {},
   "outputs": [
    {
     "data": {
      "text/plain": [
       "200"
      ]
     },
     "execution_count": 3,
     "metadata": {},
     "output_type": "execute_result"
    }
   ],
   "source": [
    "dimensao_da_matriz = 20\n",
    "tam_celula = 20\n",
    "meio = dimensao_da_matriz // 2\n",
    "lin = 0 # Representa o índice da linha\n",
    "y = (meio - lin) * tam_celula\n",
    "y"
   ]
  },
  {
   "cell_type": "markdown",
   "metadata": {},
   "source": [
    "## Solução de etapa de projeto"
   ]
  },
  {
   "cell_type": "markdown",
   "metadata": {},
   "source": [
    "Nesta etapa do projeto, a matriz que formará o labirinto não precisa ser aleatória. Assim, vamos criar uma função que retorna uma matriz qualquer. Escolhemos a dimensão 20x20 por manter coerência com o exemplo."
   ]
  },
  {
   "cell_type": "code",
   "execution_count": 10,
   "metadata": {},
   "outputs": [],
   "source": [
    "def ler_matriz():\n",
    "    return [[0,0,0,0,0,0,0,0,0,0,1,0,0,0,0,0,0,0,0,0],\\\n",
    "            [0,0,0,0,0,0,0,0,0,0,1,0,0,0,0,0,0,0,0,0],\\\n",
    "            [0,0,0,0,0,0,0,0,0,0,1,0,0,0,0,0,0,0,0,0],\\\n",
    "            [0,0,0,0,0,0,0,0,0,0,1,0,0,0,0,0,0,0,0,0],\\\n",
    "            [0,0,0,0,0,0,0,0,0,0,1,0,0,0,0,0,0,0,0,0],\\\n",
    "            [0,0,0,0,0,0,0,0,0,0,1,0,0,0,0,0,0,0,0,0],\\\n",
    "            [0,0,0,0,0,0,0,0,0,0,1,0,0,0,0,0,0,0,0,0],\\\n",
    "            [0,0,0,0,0,0,0,0,0,0,1,0,0,0,0,0,0,0,0,0],\\\n",
    "            [0,0,0,0,0,0,0,0,0,0,1,0,0,0,0,0,0,0,0,0],\\\n",
    "            [1,1,1,1,1,1,1,1,1,1,1,1,1,1,1,1,1,1,1,1],\\\n",
    "            [0,0,0,0,0,0,0,0,0,0,1,0,0,0,0,0,0,0,0,0],\\\n",
    "            [0,0,0,0,0,0,0,0,0,0,1,0,0,0,0,0,0,0,0,0],\\\n",
    "            [0,0,0,0,0,0,0,0,0,0,1,0,0,0,0,0,0,0,0,0],\\\n",
    "            [0,0,0,0,0,0,0,0,0,0,1,0,0,0,0,0,0,0,0,0],\\\n",
    "            [0,0,0,0,0,0,0,0,0,0,1,0,0,0,0,0,0,0,0,0],\\\n",
    "            [0,0,0,0,0,0,0,0,0,0,1,0,0,0,0,0,0,0,0,0],\\\n",
    "            [0,0,0,0,0,0,0,0,0,0,1,0,0,0,0,0,0,0,0,0],\\\n",
    "            [0,0,0,0,0,0,0,0,0,0,1,0,0,0,0,0,0,0,0,0],\\\n",
    "            [0,0,0,0,0,0,0,0,0,0,1,0,0,0,0,0,0,0,0,0],\\\n",
    "            [0,0,0,0,0,0,0,0,0,0,1,0,0,0,0,0,0,0,0,0]]"
   ]
  },
  {
   "cell_type": "markdown",
   "metadata": {},
   "source": [
    "A função que desenha uma célula em uma determinada posição da tela é listada a seguir."
   ]
  },
  {
   "cell_type": "code",
   "execution_count": 11,
   "metadata": {},
   "outputs": [],
   "source": [
    "def desenhar_celula(x, y, cor, lado):\n",
    "    \"\"\" Dada uma coordenada (x, y) do Turtle, desenha um quadrado preenchido (célula) na posição \"\"\"\n",
    "    color(cor)\n",
    "    up()\n",
    "    goto(x, y)\n",
    "    down()\n",
    "    begin_fill()\n",
    "    for _ in range(4):\n",
    "        forward(lado)\n",
    "        left(90)\n",
    "    end_fill()\n",
    "    up()"
   ]
  },
  {
   "cell_type": "markdown",
   "metadata": {},
   "source": [
    "A função que cria um labirinto a partir da leitura de uma matriz é mostrada como segue."
   ]
  },
  {
   "cell_type": "code",
   "execution_count": 14,
   "metadata": {},
   "outputs": [],
   "source": [
    "def criar_labirinto(p1=420, p2=420, p3=370, p4=0):\n",
    "    \"\"\" Cria uma tela do Turtle \"\"\"\n",
    "    tracer(False)\n",
    "    hideturtle()\n",
    "    bgcolor('black')\n",
    "    setup(p1, p2, p3, p4)\n",
    "    lado = 20\n",
    "    tam_celula = 20\n",
    "    matriz = ler_matriz()\n",
    "    dimensao_da_matriz = len(matriz) # Tamanho = length => len()\n",
    "    # Para cada celula (i,j) da matriz que for caminho desenhe uma celula\n",
    "    for lin in range(dimensao_da_matriz):\n",
    "        for col in range(dimensao_da_matriz):\n",
    "            if (matriz[lin][col] == 1):\n",
    "                x, y = em_coord_turtle(lin, col, dimensao_da_matriz, tam_celula)\n",
    "                desenhar_celula(x, y, 'blue', lado)\n",
    "    update()"
   ]
  },
  {
   "cell_type": "markdown",
   "metadata": {},
   "source": [
    "As estruturas de repetição aninhadas geram as todas combinações de índices (em ```lin```, ```col```) de forma que todos os elementos da matriz possam ser acessados. Em cada posição, verificamos quais devem ser considerados caminho (```matriz[lin][col] == 1```). Quando o teste é verdadeiro, devemos converter os índices ```lin```, ```col``` para $x$,$y$ do Turtle e desenhar uma célula no local. A função a seguir mostra a implementação da função de conversão."
   ]
  },
  {
   "cell_type": "code",
   "execution_count": 12,
   "metadata": {},
   "outputs": [],
   "source": [
    "def em_coord_turtle(lin, col, dim, tam_celula):\n",
    "    meio = dim // 2\n",
    "    x = (col - meio) * tam_celula\n",
    "    y = (meio - lin) * tam_celula\n",
    "    return x, y"
   ]
  },
  {
   "cell_type": "markdown",
   "metadata": {},
   "source": [
    "Finalmente, criamos uma função de execução do labirinto."
   ]
  },
  {
   "cell_type": "code",
   "execution_count": null,
   "metadata": {},
   "outputs": [],
   "source": [
    "def main():\n",
    "    criar_labirinto()\n",
    "    done()\n",
    "main()"
   ]
  },
  {
   "cell_type": "markdown",
   "metadata": {},
   "source": [
    "A figura a seguir ilustra o resultado da execução."
   ]
  },
  {
   "cell_type": "markdown",
   "metadata": {},
   "source": [
    "<img src=\"img/labirinto-execução.png\" width=50% />"
   ]
  }
 ],
 "metadata": {
  "kernelspec": {
   "display_name": "Python 3",
   "language": "python",
   "name": "python3"
  },
  "language_info": {
   "codemirror_mode": {
    "name": "ipython",
    "version": 3
   },
   "file_extension": ".py",
   "mimetype": "text/x-python",
   "name": "python",
   "nbconvert_exporter": "python",
   "pygments_lexer": "ipython3",
   "version": "3.8.3"
  }
 },
 "nbformat": 4,
 "nbformat_minor": 4
}
